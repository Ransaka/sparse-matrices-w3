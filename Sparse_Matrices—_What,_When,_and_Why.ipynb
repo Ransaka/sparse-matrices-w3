{
  "cells": [
    {
      "cell_type": "markdown",
      "source": [
        "# Install additional packages and set authentication for kaggle API"
      ],
      "metadata": {
        "id": "NA0S1XWAfJVn"
      },
      "id": "NA0S1XWAfJVn"
    },
    {
      "cell_type": "code",
      "execution_count": null,
      "id": "625d839e-4675-42ed-b8ac-0ca504cbf2f4",
      "metadata": {
        "id": "625d839e-4675-42ed-b8ac-0ca504cbf2f4"
      },
      "outputs": [],
      "source": [
        "!pip install kaggle --q"
      ]
    },
    {
      "cell_type": "code",
      "execution_count": null,
      "id": "0b4ab105-d0af-4bf0-9957-2116bd68d2a8",
      "metadata": {
        "id": "0b4ab105-d0af-4bf0-9957-2116bd68d2a8"
      },
      "outputs": [],
      "source": [
        "!mkdir -p ~/.kaggle/ && mv kaggle.json ~/.kaggle/ && chmod 600 ~/.kaggle/kaggle.json"
      ]
    },
    {
      "cell_type": "code",
      "source": [
        "!pip install -U scikit-learn==1.0"
      ],
      "metadata": {
        "id": "mxlFoyG1QT_N"
      },
      "id": "mxlFoyG1QT_N",
      "execution_count": null,
      "outputs": []
    },
    {
      "cell_type": "code",
      "execution_count": 72,
      "id": "c4dbe9eb-a2db-438b-895b-6be97343100d",
      "metadata": {
        "id": "c4dbe9eb-a2db-438b-895b-6be97343100d"
      },
      "outputs": [],
      "source": [
        "import pandas as pd\n",
        "import numpy as np\n",
        "import seaborn as sns\n",
        "import matplotlib.pyplot as plt\n",
        "import warnings\n",
        "from scipy import sparse\n",
        "import os\n",
        "import gc\n",
        "from datetime import datetime\n",
        "import time\n",
        "from tqdm import tqdm\n",
        "import zipfile\n",
        "\n",
        "warnings.filterwarnings('ignore')\n",
        "plt.style.use('fivethirtyeight')"
      ]
    },
    {
      "cell_type": "markdown",
      "source": [
        "# (1) Test with example sparse matrix "
      ],
      "metadata": {
        "id": "pkYqll0ofTmm"
      },
      "id": "pkYqll0ofTmm"
    },
    {
      "cell_type": "code",
      "source": [
        "m = np.array([[0,0,0,0],\n",
        "           [0,0,0,0],\n",
        "           [0,0,0,0],\n",
        "           [2,1,1,1]])"
      ],
      "metadata": {
        "id": "vaZaLmUNR9ym"
      },
      "id": "vaZaLmUNR9ym",
      "execution_count": 2,
      "outputs": []
    },
    {
      "cell_type": "code",
      "source": [
        "print(m)"
      ],
      "metadata": {
        "colab": {
          "base_uri": "https://localhost:8080/"
        },
        "id": "Fij9NmafSOle",
        "outputId": "e1ac2e10-0538-4bb7-a60e-9200d708d7a9"
      },
      "id": "Fij9NmafSOle",
      "execution_count": 3,
      "outputs": [
        {
          "output_type": "stream",
          "name": "stdout",
          "text": [
            "[[0 0 0 0]\n",
            " [0 0 0 0]\n",
            " [0 0 0 0]\n",
            " [2 1 1 1]]\n"
          ]
        }
      ]
    },
    {
      "cell_type": "code",
      "source": [
        "csr_m = sparse.csr_matrix(m)"
      ],
      "metadata": {
        "id": "ywLJVlYiWg33"
      },
      "id": "ywLJVlYiWg33",
      "execution_count": 4,
      "outputs": []
    },
    {
      "cell_type": "markdown",
      "source": [
        "# (2) Create the dummy dataset"
      ],
      "metadata": {
        "id": "S1OJdZpefhCm"
      },
      "id": "S1OJdZpefhCm"
    },
    {
      "cell_type": "code",
      "source": [
        "def get_data(N = 70_000,num_categorical =40,num_numerical = 10):\n",
        "\n",
        "  df = pd.DataFrame()\n",
        "  for i in range(num_categorical):\n",
        "    df[f\"cat_{i}\"] = np.random.choice([\"A\",\"B\",\"C\",\"D\",\"E\",'F',\"G\",\"H\",\"I\",\"J\",\"K\"],size=N)\n",
        "\n",
        "  for i in range(num_numerical):\n",
        "    if i%2==0:\n",
        "      df[f\"num_{i}\"] = np.random.randint(low=18,size=N)\n",
        "    else:\n",
        "      df[f\"num_{i}\"] = np.random.uniform(size=N)\n",
        "\n",
        "  df = pd.get_dummies(df)\n",
        "  df = df[np.random.default_rng(seed=42).permutation(df.columns.values)]\n",
        "  df['TARGET'] = np.random.choice([1,0],size=N)\n",
        "\n",
        "  return df"
      ],
      "metadata": {
        "id": "Ip8gWiVifnjQ"
      },
      "id": "Ip8gWiVifnjQ",
      "execution_count": 54,
      "outputs": []
    },
    {
      "cell_type": "code",
      "source": [
        "train = get_data()"
      ],
      "metadata": {
        "id": "B-eTO0udhlMM"
      },
      "id": "B-eTO0udhlMM",
      "execution_count": 55,
      "outputs": []
    },
    {
      "cell_type": "code",
      "source": [
        "train.head()"
      ],
      "metadata": {
        "colab": {
          "base_uri": "https://localhost:8080/",
          "height": 300
        },
        "id": "IFDvxk5SicSY",
        "outputId": "7c2d29de-d067-488d-f761-4fbe6c35210f"
      },
      "id": "IFDvxk5SicSY",
      "execution_count": 56,
      "outputs": [
        {
          "output_type": "execute_result",
          "data": {
            "text/plain": [
              "   cat_29_I  cat_15_I  cat_14_K  cat_17_A  cat_20_B  cat_30_B  cat_32_B  \\\n",
              "0         0         0         1         0         0         0         0   \n",
              "1         0         0         0         0         0         0         1   \n",
              "2         0         0         0         0         0         0         0   \n",
              "3         0         0         0         0         0         0         0   \n",
              "4         0         0         0         0         0         0         0   \n",
              "\n",
              "   cat_14_E  cat_8_J  cat_12_K  ...  cat_20_H  cat_35_B  cat_38_J  cat_0_E  \\\n",
              "0         0        0         0  ...         0         0         0        1   \n",
              "1         0        0         0  ...         0         0         0        0   \n",
              "2         0        1         0  ...         0         0         0        0   \n",
              "3         0        0         0  ...         0         0         0        0   \n",
              "4         0        0         0  ...         0         0         0        1   \n",
              "\n",
              "   cat_11_K  cat_16_I  cat_2_E  cat_7_K  cat_11_F  TARGET  \n",
              "0         0         0        0        0         0       1  \n",
              "1         0         0        0        0         0       0  \n",
              "2         0         0        0        0         0       0  \n",
              "3         0         0        1        0         1       1  \n",
              "4         0         0        0        0         0       0  \n",
              "\n",
              "[5 rows x 451 columns]"
            ],
            "text/html": [
              "\n",
              "  <div id=\"df-a3ab244e-4fb8-413b-9ecc-7834637604ff\">\n",
              "    <div class=\"colab-df-container\">\n",
              "      <div>\n",
              "<style scoped>\n",
              "    .dataframe tbody tr th:only-of-type {\n",
              "        vertical-align: middle;\n",
              "    }\n",
              "\n",
              "    .dataframe tbody tr th {\n",
              "        vertical-align: top;\n",
              "    }\n",
              "\n",
              "    .dataframe thead th {\n",
              "        text-align: right;\n",
              "    }\n",
              "</style>\n",
              "<table border=\"1\" class=\"dataframe\">\n",
              "  <thead>\n",
              "    <tr style=\"text-align: right;\">\n",
              "      <th></th>\n",
              "      <th>cat_29_I</th>\n",
              "      <th>cat_15_I</th>\n",
              "      <th>cat_14_K</th>\n",
              "      <th>cat_17_A</th>\n",
              "      <th>cat_20_B</th>\n",
              "      <th>cat_30_B</th>\n",
              "      <th>cat_32_B</th>\n",
              "      <th>cat_14_E</th>\n",
              "      <th>cat_8_J</th>\n",
              "      <th>cat_12_K</th>\n",
              "      <th>...</th>\n",
              "      <th>cat_20_H</th>\n",
              "      <th>cat_35_B</th>\n",
              "      <th>cat_38_J</th>\n",
              "      <th>cat_0_E</th>\n",
              "      <th>cat_11_K</th>\n",
              "      <th>cat_16_I</th>\n",
              "      <th>cat_2_E</th>\n",
              "      <th>cat_7_K</th>\n",
              "      <th>cat_11_F</th>\n",
              "      <th>TARGET</th>\n",
              "    </tr>\n",
              "  </thead>\n",
              "  <tbody>\n",
              "    <tr>\n",
              "      <th>0</th>\n",
              "      <td>0</td>\n",
              "      <td>0</td>\n",
              "      <td>1</td>\n",
              "      <td>0</td>\n",
              "      <td>0</td>\n",
              "      <td>0</td>\n",
              "      <td>0</td>\n",
              "      <td>0</td>\n",
              "      <td>0</td>\n",
              "      <td>0</td>\n",
              "      <td>...</td>\n",
              "      <td>0</td>\n",
              "      <td>0</td>\n",
              "      <td>0</td>\n",
              "      <td>1</td>\n",
              "      <td>0</td>\n",
              "      <td>0</td>\n",
              "      <td>0</td>\n",
              "      <td>0</td>\n",
              "      <td>0</td>\n",
              "      <td>1</td>\n",
              "    </tr>\n",
              "    <tr>\n",
              "      <th>1</th>\n",
              "      <td>0</td>\n",
              "      <td>0</td>\n",
              "      <td>0</td>\n",
              "      <td>0</td>\n",
              "      <td>0</td>\n",
              "      <td>0</td>\n",
              "      <td>1</td>\n",
              "      <td>0</td>\n",
              "      <td>0</td>\n",
              "      <td>0</td>\n",
              "      <td>...</td>\n",
              "      <td>0</td>\n",
              "      <td>0</td>\n",
              "      <td>0</td>\n",
              "      <td>0</td>\n",
              "      <td>0</td>\n",
              "      <td>0</td>\n",
              "      <td>0</td>\n",
              "      <td>0</td>\n",
              "      <td>0</td>\n",
              "      <td>0</td>\n",
              "    </tr>\n",
              "    <tr>\n",
              "      <th>2</th>\n",
              "      <td>0</td>\n",
              "      <td>0</td>\n",
              "      <td>0</td>\n",
              "      <td>0</td>\n",
              "      <td>0</td>\n",
              "      <td>0</td>\n",
              "      <td>0</td>\n",
              "      <td>0</td>\n",
              "      <td>1</td>\n",
              "      <td>0</td>\n",
              "      <td>...</td>\n",
              "      <td>0</td>\n",
              "      <td>0</td>\n",
              "      <td>0</td>\n",
              "      <td>0</td>\n",
              "      <td>0</td>\n",
              "      <td>0</td>\n",
              "      <td>0</td>\n",
              "      <td>0</td>\n",
              "      <td>0</td>\n",
              "      <td>0</td>\n",
              "    </tr>\n",
              "    <tr>\n",
              "      <th>3</th>\n",
              "      <td>0</td>\n",
              "      <td>0</td>\n",
              "      <td>0</td>\n",
              "      <td>0</td>\n",
              "      <td>0</td>\n",
              "      <td>0</td>\n",
              "      <td>0</td>\n",
              "      <td>0</td>\n",
              "      <td>0</td>\n",
              "      <td>0</td>\n",
              "      <td>...</td>\n",
              "      <td>0</td>\n",
              "      <td>0</td>\n",
              "      <td>0</td>\n",
              "      <td>0</td>\n",
              "      <td>0</td>\n",
              "      <td>0</td>\n",
              "      <td>1</td>\n",
              "      <td>0</td>\n",
              "      <td>1</td>\n",
              "      <td>1</td>\n",
              "    </tr>\n",
              "    <tr>\n",
              "      <th>4</th>\n",
              "      <td>0</td>\n",
              "      <td>0</td>\n",
              "      <td>0</td>\n",
              "      <td>0</td>\n",
              "      <td>0</td>\n",
              "      <td>0</td>\n",
              "      <td>0</td>\n",
              "      <td>0</td>\n",
              "      <td>0</td>\n",
              "      <td>0</td>\n",
              "      <td>...</td>\n",
              "      <td>0</td>\n",
              "      <td>0</td>\n",
              "      <td>0</td>\n",
              "      <td>1</td>\n",
              "      <td>0</td>\n",
              "      <td>0</td>\n",
              "      <td>0</td>\n",
              "      <td>0</td>\n",
              "      <td>0</td>\n",
              "      <td>0</td>\n",
              "    </tr>\n",
              "  </tbody>\n",
              "</table>\n",
              "<p>5 rows × 451 columns</p>\n",
              "</div>\n",
              "      <button class=\"colab-df-convert\" onclick=\"convertToInteractive('df-a3ab244e-4fb8-413b-9ecc-7834637604ff')\"\n",
              "              title=\"Convert this dataframe to an interactive table.\"\n",
              "              style=\"display:none;\">\n",
              "        \n",
              "  <svg xmlns=\"http://www.w3.org/2000/svg\" height=\"24px\"viewBox=\"0 0 24 24\"\n",
              "       width=\"24px\">\n",
              "    <path d=\"M0 0h24v24H0V0z\" fill=\"none\"/>\n",
              "    <path d=\"M18.56 5.44l.94 2.06.94-2.06 2.06-.94-2.06-.94-.94-2.06-.94 2.06-2.06.94zm-11 1L8.5 8.5l.94-2.06 2.06-.94-2.06-.94L8.5 2.5l-.94 2.06-2.06.94zm10 10l.94 2.06.94-2.06 2.06-.94-2.06-.94-.94-2.06-.94 2.06-2.06.94z\"/><path d=\"M17.41 7.96l-1.37-1.37c-.4-.4-.92-.59-1.43-.59-.52 0-1.04.2-1.43.59L10.3 9.45l-7.72 7.72c-.78.78-.78 2.05 0 2.83L4 21.41c.39.39.9.59 1.41.59.51 0 1.02-.2 1.41-.59l7.78-7.78 2.81-2.81c.8-.78.8-2.07 0-2.86zM5.41 20L4 18.59l7.72-7.72 1.47 1.35L5.41 20z\"/>\n",
              "  </svg>\n",
              "      </button>\n",
              "      \n",
              "  <style>\n",
              "    .colab-df-container {\n",
              "      display:flex;\n",
              "      flex-wrap:wrap;\n",
              "      gap: 12px;\n",
              "    }\n",
              "\n",
              "    .colab-df-convert {\n",
              "      background-color: #E8F0FE;\n",
              "      border: none;\n",
              "      border-radius: 50%;\n",
              "      cursor: pointer;\n",
              "      display: none;\n",
              "      fill: #1967D2;\n",
              "      height: 32px;\n",
              "      padding: 0 0 0 0;\n",
              "      width: 32px;\n",
              "    }\n",
              "\n",
              "    .colab-df-convert:hover {\n",
              "      background-color: #E2EBFA;\n",
              "      box-shadow: 0px 1px 2px rgba(60, 64, 67, 0.3), 0px 1px 3px 1px rgba(60, 64, 67, 0.15);\n",
              "      fill: #174EA6;\n",
              "    }\n",
              "\n",
              "    [theme=dark] .colab-df-convert {\n",
              "      background-color: #3B4455;\n",
              "      fill: #D2E3FC;\n",
              "    }\n",
              "\n",
              "    [theme=dark] .colab-df-convert:hover {\n",
              "      background-color: #434B5C;\n",
              "      box-shadow: 0px 1px 3px 1px rgba(0, 0, 0, 0.15);\n",
              "      filter: drop-shadow(0px 1px 2px rgba(0, 0, 0, 0.3));\n",
              "      fill: #FFFFFF;\n",
              "    }\n",
              "  </style>\n",
              "\n",
              "      <script>\n",
              "        const buttonEl =\n",
              "          document.querySelector('#df-a3ab244e-4fb8-413b-9ecc-7834637604ff button.colab-df-convert');\n",
              "        buttonEl.style.display =\n",
              "          google.colab.kernel.accessAllowed ? 'block' : 'none';\n",
              "\n",
              "        async function convertToInteractive(key) {\n",
              "          const element = document.querySelector('#df-a3ab244e-4fb8-413b-9ecc-7834637604ff');\n",
              "          const dataTable =\n",
              "            await google.colab.kernel.invokeFunction('convertToInteractive',\n",
              "                                                     [key], {});\n",
              "          if (!dataTable) return;\n",
              "\n",
              "          const docLinkHtml = 'Like what you see? Visit the ' +\n",
              "            '<a target=\"_blank\" href=https://colab.research.google.com/notebooks/data_table.ipynb>data table notebook</a>'\n",
              "            + ' to learn more about interactive tables.';\n",
              "          element.innerHTML = '';\n",
              "          dataTable['output_type'] = 'display_data';\n",
              "          await google.colab.output.renderOutput(dataTable, element);\n",
              "          const docLink = document.createElement('div');\n",
              "          docLink.innerHTML = docLinkHtml;\n",
              "          element.appendChild(docLink);\n",
              "        }\n",
              "      </script>\n",
              "    </div>\n",
              "  </div>\n",
              "  "
            ]
          },
          "metadata": {},
          "execution_count": 56
        }
      ]
    },
    {
      "cell_type": "code",
      "source": [
        "train.to_csv(\"train.csv\")"
      ],
      "metadata": {
        "id": "3OjTEry2il23"
      },
      "id": "3OjTEry2il23",
      "execution_count": 58,
      "outputs": []
    },
    {
      "cell_type": "code",
      "source": [
        "del train\n",
        "gc.collect()"
      ],
      "metadata": {
        "colab": {
          "base_uri": "https://localhost:8080/"
        },
        "id": "H7XpkMaBiyzi",
        "outputId": "397e0cc9-1290-4470-936b-e37432d637b3"
      },
      "id": "H7XpkMaBiyzi",
      "execution_count": 59,
      "outputs": [
        {
          "output_type": "execute_result",
          "data": {
            "text/plain": [
              "4317"
            ]
          },
          "metadata": {},
          "execution_count": 59
        }
      ]
    },
    {
      "cell_type": "markdown",
      "source": [
        "# (3) In-memory and disk size comparison"
      ],
      "metadata": {
        "id": "lhxTIhN-ir0k"
      },
      "id": "lhxTIhN-ir0k"
    },
    {
      "cell_type": "code",
      "execution_count": 60,
      "id": "0d5ad34c-0395-4c47-97ff-532978bbdd3d",
      "metadata": {
        "id": "0d5ad34c-0395-4c47-97ff-532978bbdd3d"
      },
      "outputs": [],
      "source": [
        "data = pd.read_csv('train.csv')"
      ]
    },
    {
      "cell_type": "code",
      "execution_count": 61,
      "id": "f7f8c1a6-7f54-48f0-99f4-7085b6dfa65b",
      "metadata": {
        "id": "f7f8c1a6-7f54-48f0-99f4-7085b6dfa65b"
      },
      "outputs": [],
      "source": [
        "disk_usage = os.path.getsize('/content/train.csv')/1e6\n",
        "memory_usage = data.to_numpy().nbytes/1e6"
      ]
    },
    {
      "cell_type": "code",
      "source": [
        "plt.figure(figsize=(10,8))\n",
        "plt.bar(x=[\"CSV\",\"DataFrame\"],height=[disk_usage,memory_usage])\n",
        "plt.title(\"Size comparison - CSV vs DataFrame\")\n",
        "plt.ylabel(\"Usage (MB)\")\n",
        "plt.show()"
      ],
      "metadata": {
        "colab": {
          "base_uri": "https://localhost:8080/",
          "height": 496
        },
        "id": "Mz2OwxqxsFfn",
        "outputId": "f931e9eb-9dda-4942-e77c-82ec5bef50da"
      },
      "id": "Mz2OwxqxsFfn",
      "execution_count": 62,
      "outputs": [
        {
          "output_type": "display_data",
          "data": {
            "text/plain": [
              "<Figure size 720x576 with 1 Axes>"
            ],
            "image/png": "[encoded data removed]"
          },
          "metadata": {
            "needs_background": "light"
          }
        }
      ]
    },
    {
      "cell_type": "markdown",
      "source": [
        "# (4) Check sparsity of the dataset"
      ],
      "metadata": {
        "id": "C4S-7Ru4kmIM"
      },
      "id": "C4S-7Ru4kmIM"
    },
    {
      "cell_type": "code",
      "execution_count": 63,
      "id": "4f38e0f9-2a28-4d35-b10a-32805472b803",
      "metadata": {
        "colab": {
          "base_uri": "https://localhost:8080/",
          "height": 466
        },
        "id": "4f38e0f9-2a28-4d35-b10a-32805472b803",
        "outputId": "301eccfa-200c-4bf7-f92a-9f80a503b697"
      },
      "outputs": [
        {
          "output_type": "display_data",
          "data": {
            "text/plain": [
              "<Figure size 576x576 with 1 Axes>"
            ],
            "image/png": "[encoded data removed]"
          },
          "metadata": {
            "needs_background": "light"
          }
        }
      ],
      "source": [
        "plt.figure(figsize=(8,8))\n",
        "plt.spy(data.head(500).T)\n",
        "plt.axis('off')\n",
        "plt.grid(False)\n",
        "plt.show()"
      ]
    },
    {
      "cell_type": "code",
      "source": [
        "sparsity = 1- np.count_nonzero(data)/ data.size"
      ],
      "metadata": {
        "id": "CIURZDMIyzer"
      },
      "id": "CIURZDMIyzer",
      "execution_count": 64,
      "outputs": []
    },
    {
      "cell_type": "code",
      "source": [
        "sparsity"
      ],
      "metadata": {
        "colab": {
          "base_uri": "https://localhost:8080/"
        },
        "id": "pgOBhDFI13Z1",
        "outputId": "f3a469df-af71-46df-e4e3-e0c5d3a1b5c5"
      },
      "id": "pgOBhDFI13Z1",
      "execution_count": 65,
      "outputs": [
        {
          "output_type": "execute_result",
          "data": {
            "text/plain": [
              "0.8866724715549936"
            ]
          },
          "metadata": {},
          "execution_count": 65
        }
      ]
    },
    {
      "cell_type": "markdown",
      "source": [
        "# (5) Check compression effect on test and train datasets"
      ],
      "metadata": {
        "id": "H8orHtTQoHCX"
      },
      "id": "H8orHtTQoHCX"
    },
    {
      "cell_type": "code",
      "execution_count": 66,
      "id": "fba2c6b8-4187-45e0-b64f-c910ba826c1b",
      "metadata": {
        "id": "fba2c6b8-4187-45e0-b64f-c910ba826c1b"
      },
      "outputs": [],
      "source": [
        "from sklearn.linear_model import LogisticRegression\n",
        "from sklearn.model_selection import train_test_split\n",
        "from sklearn.svm import LinearSVC\n",
        "from sklearn.naive_bayes import GaussianNB\n",
        "from sklearn.neighbors import KNeighborsClassifier\n",
        "from sklearn.ensemble import GradientBoostingClassifier,BaggingClassifier,RandomForestClassifier,HistGradientBoostingClassifier\n",
        "from sklearn.tree import DecisionTreeClassifier\n",
        "from sklearn.cluster import KMeans\n",
        "\n",
        "TEST_SIZE = 0.3"
      ]
    },
    {
      "cell_type": "code",
      "execution_count": 67,
      "id": "3c8dc555-5b72-499e-ba11-dae853d16397",
      "metadata": {
        "id": "3c8dc555-5b72-499e-ba11-dae853d16397"
      },
      "outputs": [],
      "source": [
        "y = data.pop('TARGET')\n",
        "X = data"
      ]
    },
    {
      "cell_type": "code",
      "execution_count": 68,
      "id": "210904db-3204-4d53-ba61-a8587ac306cb",
      "metadata": {
        "id": "210904db-3204-4d53-ba61-a8587ac306cb"
      },
      "outputs": [],
      "source": [
        "xtrain,xtest,ytrain,ytest = train_test_split(X,y,test_size=TEST_SIZE,random_state=1997)"
      ]
    },
    {
      "cell_type": "code",
      "execution_count": 69,
      "id": "453ff1ab-0d47-41df-b787-1f113b512e7b",
      "metadata": {
        "id": "453ff1ab-0d47-41df-b787-1f113b512e7b"
      },
      "outputs": [],
      "source": [
        "def get_mem_usage(train,test,labels=['Train','Test'],plot=True):\n",
        "    \n",
        "    \"\"\"Helper function for plotting in-disk memory usage for pandas df\"\"\"\n",
        "    \n",
        "    #get the original memory usage \n",
        "    train_original_size = train.to_numpy().nbytes/1e6\n",
        "    test_original_size = test.to_numpy().nbytes/1e6\n",
        "    \n",
        "    #convert into csr_metrix\n",
        "    train_csr = sparse.csr_matrix(train)\n",
        "    test_csr = sparse.csr_matrix(test)\n",
        "    \n",
        "    #get memory usage\n",
        "    train_csr_size = (train_csr.data.nbytes+train_csr.indptr.nbytes+train_csr.indices.nbytes)/1e6\n",
        "    test_csr_size = (test_csr.data.nbytes+test_csr.indptr.nbytes+test_csr.indices.nbytes)/1e6\n",
        "    \n",
        "    original_sizes = [train_original_size, test_original_size]\n",
        "    sparse_sizes = [train_csr_size, test_csr_size]\n",
        "    \n",
        "    if plot:\n",
        "        width = 0.35\n",
        "        x = np.arange(len(labels))\n",
        "\n",
        "        fig, ax = plt.subplots(figsize=(10,8))\n",
        "\n",
        "        rects1 = ax.bar(x - width/2, original_sizes, width, label='Original')\n",
        "        rects2 = ax.bar(x + width/2, sparse_sizes, width, label='Sparse')\n",
        "\n",
        "        ax.set_ylabel('Memory Usage(MB)')\n",
        "        ax.set_title('Memory Usage Comparison'.title())\n",
        "        ax.set_xticks(x)\n",
        "        ax.set_xticklabels(labels)\n",
        "        ax.legend()\n",
        "\n",
        "        plt.grid(False)\n",
        "        plt.show()\n",
        "\n",
        "    else:\n",
        "        return sparse_sizes+original_sizes"
      ]
    },
    {
      "cell_type": "code",
      "execution_count": 70,
      "id": "9f7fc362-4705-4eae-89e2-fe4d74fb9fa1",
      "metadata": {
        "colab": {
          "base_uri": "https://localhost:8080/",
          "height": 496
        },
        "id": "9f7fc362-4705-4eae-89e2-fe4d74fb9fa1",
        "outputId": "4d77f456-976e-4951-bb08-5ab5e63af02b"
      },
      "outputs": [
        {
          "output_type": "display_data",
          "data": {
            "text/plain": [
              "<Figure size 720x576 with 1 Axes>"
            ],
            "image/png": "[encoded data removed]"
          },
          "metadata": {
            "needs_background": "light"
          }
        }
      ],
      "source": [
        "get_mem_usage(xtrain,xtest)"
      ]
    },
    {
      "cell_type": "markdown",
      "source": [
        "# (6) Plot sample size vs memory usage"
      ],
      "metadata": {
        "id": "2XGyIpojoNQf"
      },
      "id": "2XGyIpojoNQf"
    },
    {
      "cell_type": "code",
      "execution_count": null,
      "id": "12d8c241-9437-4798-b8d8-cbe04a337cbf",
      "metadata": {
        "id": "12d8c241-9437-4798-b8d8-cbe04a337cbf"
      },
      "outputs": [],
      "source": [
        "def sample_size_comparison(X,y):\n",
        "    \n",
        "    \"\"\"Helper function for evaluate model training time with regards of samples and in-memory dataset type\"\"\"\n",
        "    \n",
        "    sample_sizes = np.arange(start=1000,stop=len(data)+1,step=1000)\n",
        "    X = X.copy()\n",
        "    \n",
        "    sample_size_comparison = dict()\n",
        "    \n",
        "    for n_samples in tqdm(sample_sizes):\n",
        "        xtrain,xtest = train_test_split(X.sample(n_samples,replace=True),test_size=TEST_SIZE,random_state=1997)\n",
        "        sample_size_comparison[str(n_samples)] = get_mem_usage(xtrain,xtest,plot=False)\n",
        "    \n",
        "    result = pd.DataFrame(sample_size_comparison.items())\n",
        "    result = result.set_index(0)\n",
        "    result = pd.DataFrame(result[1].tolist(), index= result.index,columns=['train_csr_size', 'test_csr_size','train_original_size', 'test_original_size'])\n",
        "    return result[['train_csr_size','train_original_size']]"
      ]
    },
    {
      "cell_type": "code",
      "execution_count": null,
      "id": "5e5bf9c1-a706-4bc1-a36d-10a2a5e72275",
      "metadata": {
        "colab": {
          "base_uri": "https://localhost:8080/"
        },
        "id": "5e5bf9c1-a706-4bc1-a36d-10a2a5e72275",
        "outputId": "69d5defd-9117-435d-c34d-d6fec49d847d"
      },
      "outputs": [
        {
          "output_type": "stream",
          "name": "stderr",
          "text": [
            "100%|██████████| 76/76 [00:35<00:00,  2.14it/s]\n"
          ]
        }
      ],
      "source": [
        "res = sample_size_comparison(X,y)"
      ]
    },
    {
      "cell_type": "code",
      "execution_count": null,
      "id": "5f687c44-d185-41f9-934e-7268cb7e4c62",
      "metadata": {
        "colab": {
          "base_uri": "https://localhost:8080/",
          "height": 362
        },
        "id": "5f687c44-d185-41f9-934e-7268cb7e4c62",
        "outputId": "2815c946-deb4-406e-e669-c316d2d2773e"
      },
      "outputs": [
        {
          "output_type": "display_data",
          "data": {
            "text/plain": [
              "<Figure size 720x360 with 1 Axes>"
            ],
            "image/png": "[encoded data removed]"
          },
          "metadata": {}
        }
      ],
      "source": [
        "_,axi = plt.subplots(figsize=(10,5))\n",
        "\n",
        "ax1 = res.plot(linestyle='solid',ax=axi)\n",
        "axi.set_xlabel(\"Sample size\")\n",
        "axi.set_ylabel(\"Memory usage (MB)\")\n",
        "\n",
        "plt.show()"
      ]
    },
    {
      "cell_type": "markdown",
      "source": [
        "# (7) Get model train time"
      ],
      "metadata": {
        "id": "dtbjexQboVEs"
      },
      "id": "dtbjexQboVEs"
    },
    {
      "cell_type": "code",
      "execution_count": 75,
      "id": "2752325b-003a-41dd-9b49-3fbaaf13122f",
      "metadata": {
        "id": "2752325b-003a-41dd-9b49-3fbaaf13122f"
      },
      "outputs": [],
      "source": [
        "def sparse_method(df):\n",
        "    return sparse.csr_matrix(df,dtype=np.float32)\n",
        "\n",
        "def ndarray_method(df):\n",
        "    return df.copy()"
      ]
    },
    {
      "cell_type": "code",
      "execution_count": 76,
      "id": "4851bb63-3cb4-4d4a-951c-4e58b7b4eff4",
      "metadata": {
        "id": "4851bb63-3cb4-4d4a-951c-4e58b7b4eff4"
      },
      "outputs": [],
      "source": [
        "csr_X = sparse_method(X)"
      ]
    },
    {
      "cell_type": "code",
      "execution_count": 85,
      "id": "bb18ef26-f810-482f-8525-d40e668cf655",
      "metadata": {
        "id": "bb18ef26-f810-482f-8525-d40e668cf655"
      },
      "outputs": [],
      "source": [
        "def model_fit_time_comparison(model,X,y):\n",
        "    \n",
        "    \"\"\"Helper function for train models againt ndarrays and csr_metrics\"\"\"\n",
        "    \n",
        "    fit_time_comparison = dict()\n",
        "    \n",
        "    for method in tqdm([sparse_method,ndarray_method]):\n",
        "        X,y = method(X),y\n",
        "        \n",
        "        st = time.time()\n",
        "        model.fit(X,y)\n",
        "        et = time.time()\n",
        "        \n",
        "        fit_time = (et-st)\n",
        "        fit_time_comparison[method.__name__] = fit_time\n",
        "        \n",
        "    return fit_time_comparison"
      ]
    },
    {
      "cell_type": "code",
      "source": [
        "def model_preformance(df_time,sparse_time,model_name,labels=['Original','Sparse Metrix']):\n",
        "  plot = True\n",
        "  if plot:\n",
        "      width = 0.35\n",
        "      x = np.arange(len(labels))\n",
        "\n",
        "      fig, ax = plt.subplots(figsize=(10,8))\n",
        "\n",
        "      rects1 = ax.bar(labels, [df_time,sparse_time], width)\n",
        "      # rects2 = ax.bar(x + width/2, sparse_sizes, width, label='Sparse')\n",
        "\n",
        "      ax.set_ylabel('Train time (Seconds)')\n",
        "      ax.set_title(f'Model Training Time Comparison\\n\\n{model_name}')\n",
        "      ax.set_xticks(x)\n",
        "      ax.set_xticklabels(labels)\n",
        "      # ax.legend()\n",
        "\n",
        "      # plt.grid(False)\n",
        "      plt.show()\n",
        "\n",
        "  else:\n",
        "      return sparse_sizes+original_sizes"
      ],
      "metadata": {
        "id": "ZkS35nhUnRyb"
      },
      "id": "ZkS35nhUnRyb",
      "execution_count": 100,
      "outputs": []
    },
    {
      "cell_type": "markdown",
      "source": [
        "## LogisticResgression"
      ],
      "metadata": {
        "id": "symOecVUovxV"
      },
      "id": "symOecVUovxV"
    },
    {
      "cell_type": "code",
      "execution_count": 89,
      "id": "39673ee8-c3ef-4760-83e3-55f0ea543aa0",
      "metadata": {
        "colab": {
          "base_uri": "https://localhost:8080/"
        },
        "id": "39673ee8-c3ef-4760-83e3-55f0ea543aa0",
        "outputId": "8626a038-0229-4d49-9037-3754f068b44e"
      },
      "outputs": [
        {
          "output_type": "stream",
          "name": "stdout",
          "text": [
            "CPU times: user 2.5 s, sys: 252 ms, total: 2.75 s\n",
            "Wall time: 1.51 s\n"
          ]
        },
        {
          "output_type": "execute_result",
          "data": {
            "text/plain": [
              "LogisticRegression()"
            ]
          },
          "metadata": {},
          "execution_count": 89
        }
      ],
      "source": [
        "model_lr = LogisticRegression()\n",
        "%time model_lr.fit(X,y)"
      ]
    },
    {
      "cell_type": "code",
      "execution_count": 90,
      "id": "bc1b64dd-c548-4a97-ad68-c96d75432306",
      "metadata": {
        "colab": {
          "base_uri": "https://localhost:8080/"
        },
        "id": "bc1b64dd-c548-4a97-ad68-c96d75432306",
        "outputId": "aa66e0ab-89a6-48e8-a887-dd82648dab5d"
      },
      "outputs": [
        {
          "output_type": "stream",
          "name": "stdout",
          "text": [
            "CPU times: user 453 ms, sys: 65 µs, total: 453 ms\n",
            "Wall time: 456 ms\n"
          ]
        },
        {
          "output_type": "execute_result",
          "data": {
            "text/plain": [
              "LogisticRegression()"
            ]
          },
          "metadata": {},
          "execution_count": 90
        }
      ],
      "source": [
        "model_lr = LogisticRegression()\n",
        "%time model_lr.fit(csr_X,y)"
      ]
    },
    {
      "cell_type": "code",
      "source": [
        "model_preformance(df_time=2.5,sparse_time=0.453,model_name='LogisticRegression')"
      ],
      "metadata": {
        "colab": {
          "base_uri": "https://localhost:8080/",
          "height": 580
        },
        "id": "NcsuAvo1ozfQ",
        "outputId": "49c53cf1-142b-4d8e-dfe2-256d010e60bc"
      },
      "id": "NcsuAvo1ozfQ",
      "execution_count": 101,
      "outputs": [
        {
          "output_type": "display_data",
          "data": {
            "text/plain": [
              "<Figure size 720x576 with 1 Axes>"
            ],
            "image/png": "[encoded data removed]"
          },
          "metadata": {}
        }
      ]
    },
    {
      "cell_type": "markdown",
      "source": [
        "## GradientBoostingClassifier"
      ],
      "metadata": {
        "id": "1rMtnOtXpo8S"
      },
      "id": "1rMtnOtXpo8S"
    },
    {
      "cell_type": "code",
      "execution_count": 91,
      "id": "cb9bc51b-893b-4598-b330-cf87a080e20b",
      "metadata": {
        "colab": {
          "base_uri": "https://localhost:8080/"
        },
        "id": "cb9bc51b-893b-4598-b330-cf87a080e20b",
        "outputId": "3c141e73-7b17-4311-9b34-8c007648fb23"
      },
      "outputs": [
        {
          "output_type": "stream",
          "name": "stdout",
          "text": [
            "CPU times: user 1min 24s, sys: 2.85 ms, total: 1min 24s\n",
            "Wall time: 1min 24s\n"
          ]
        },
        {
          "output_type": "execute_result",
          "data": {
            "text/plain": [
              "GradientBoostingClassifier()"
            ]
          },
          "metadata": {},
          "execution_count": 91
        }
      ],
      "source": [
        "model_gb = GradientBoostingClassifier()\n",
        "%time  model_gb.fit(X,y)"
      ]
    },
    {
      "cell_type": "code",
      "execution_count": 92,
      "id": "15edd978-a14d-4898-83f9-2e81da6fc203",
      "metadata": {
        "colab": {
          "base_uri": "https://localhost:8080/"
        },
        "id": "15edd978-a14d-4898-83f9-2e81da6fc203",
        "outputId": "d48fa392-8203-4371-b8f6-a152ca4e4c0e"
      },
      "outputs": [
        {
          "output_type": "stream",
          "name": "stdout",
          "text": [
            "CPU times: user 50.8 s, sys: 73.7 ms, total: 50.9 s\n",
            "Wall time: 50.7 s\n"
          ]
        },
        {
          "output_type": "execute_result",
          "data": {
            "text/plain": [
              "GradientBoostingClassifier()"
            ]
          },
          "metadata": {},
          "execution_count": 92
        }
      ],
      "source": [
        "model_gb = GradientBoostingClassifier()\n",
        "%time model_gb.fit(csr_X,y)"
      ]
    },
    {
      "cell_type": "code",
      "source": [
        "model_preformance(df_time=84,sparse_time=50.8,model_name='GradientBoostingClassifier')"
      ],
      "metadata": {
        "colab": {
          "base_uri": "https://localhost:8080/",
          "height": 580
        },
        "id": "Wl5kt7ZIpdEb",
        "outputId": "108641ca-2f88-4f6a-f85e-9668fffc5b3e"
      },
      "id": "Wl5kt7ZIpdEb",
      "execution_count": 108,
      "outputs": [
        {
          "output_type": "display_data",
          "data": {
            "text/plain": [
              "<Figure size 720x576 with 1 Axes>"
            ],
            "image/png": "[encoded data removed]"
          },
          "metadata": {}
        }
      ]
    },
    {
      "cell_type": "markdown",
      "source": [
        "## KMeans"
      ],
      "metadata": {
        "id": "MSbBPK6lptod"
      },
      "id": "MSbBPK6lptod"
    },
    {
      "cell_type": "code",
      "source": [
        "cluster_model = KMeans()\n",
        "%time cluster_model.fit(X,y)"
      ],
      "metadata": {
        "colab": {
          "base_uri": "https://localhost:8080/"
        },
        "id": "uDgNblBGpRvq",
        "outputId": "b1e0b1ce-c62e-4a0b-dd3e-5454360ad202"
      },
      "id": "uDgNblBGpRvq",
      "execution_count": 93,
      "outputs": [
        {
          "output_type": "stream",
          "name": "stdout",
          "text": [
            "CPU times: user 1min 9s, sys: 1.26 s, total: 1min 10s\n",
            "Wall time: 36.5 s\n"
          ]
        },
        {
          "output_type": "execute_result",
          "data": {
            "text/plain": [
              "KMeans()"
            ]
          },
          "metadata": {},
          "execution_count": 93
        }
      ]
    },
    {
      "cell_type": "code",
      "source": [
        "cluster_model = KMeans()\n",
        "%time cluster_model.fit(csr_X,y)"
      ],
      "metadata": {
        "colab": {
          "base_uri": "https://localhost:8080/"
        },
        "id": "N6ggGFN8vFj2",
        "outputId": "e2c8bc75-0957-44bb-c978-075a9f3e4a81"
      },
      "id": "N6ggGFN8vFj2",
      "execution_count": 94,
      "outputs": [
        {
          "output_type": "stream",
          "name": "stdout",
          "text": [
            "CPU times: user 21.4 s, sys: 145 ms, total: 21.6 s\n",
            "Wall time: 15.3 s\n"
          ]
        },
        {
          "output_type": "execute_result",
          "data": {
            "text/plain": [
              "KMeans()"
            ]
          },
          "metadata": {},
          "execution_count": 94
        }
      ]
    },
    {
      "cell_type": "code",
      "source": [
        "model_preformance(df_time=69,sparse_time=21.4,model_name='KMeans')"
      ],
      "metadata": {
        "colab": {
          "base_uri": "https://localhost:8080/",
          "height": 580
        },
        "id": "SdbhiH0fpxRK",
        "outputId": "6d7b0ca2-24de-4782-e808-3ca3666cdb75"
      },
      "id": "SdbhiH0fpxRK",
      "execution_count": 104,
      "outputs": [
        {
          "output_type": "display_data",
          "data": {
            "text/plain": [
              "<Figure size 720x576 with 1 Axes>"
            ],
            "image/png": "[encoded data removed]"
          },
          "metadata": {}
        }
      ]
    },
    {
      "cell_type": "markdown",
      "source": [
        "## LinearSVC"
      ],
      "metadata": {
        "id": "_CmPwwsNqC34"
      },
      "id": "_CmPwwsNqC34"
    },
    {
      "cell_type": "code",
      "source": [
        "sv = LinearSVC()\n",
        "%time sv.fit(X,y)"
      ],
      "metadata": {
        "colab": {
          "base_uri": "https://localhost:8080/"
        },
        "id": "XWWDP4oQJwlY",
        "outputId": "ce3d600f-904c-4ad5-974a-2af25338acee"
      },
      "id": "XWWDP4oQJwlY",
      "execution_count": 105,
      "outputs": [
        {
          "output_type": "stream",
          "name": "stdout",
          "text": [
            "CPU times: user 45.1 s, sys: 65.5 ms, total: 45.2 s\n",
            "Wall time: 45 s\n"
          ]
        },
        {
          "output_type": "execute_result",
          "data": {
            "text/plain": [
              "LinearSVC()"
            ]
          },
          "metadata": {},
          "execution_count": 105
        }
      ]
    },
    {
      "cell_type": "code",
      "source": [
        "sv = LinearSVC()\n",
        "%time sv.fit(csr_X,y)"
      ],
      "metadata": {
        "colab": {
          "base_uri": "https://localhost:8080/"
        },
        "id": "Nlv0dV6SJz8g",
        "outputId": "2fc9183b-2f02-4ebf-d4a3-a73fdb81fee6"
      },
      "id": "Nlv0dV6SJz8g",
      "execution_count": 96,
      "outputs": [
        {
          "output_type": "stream",
          "name": "stdout",
          "text": [
            "CPU times: user 41.6 s, sys: 24.3 ms, total: 41.6 s\n",
            "Wall time: 41.5 s\n"
          ]
        },
        {
          "output_type": "execute_result",
          "data": {
            "text/plain": [
              "LinearSVC()"
            ]
          },
          "metadata": {},
          "execution_count": 96
        }
      ]
    },
    {
      "cell_type": "code",
      "source": [
        "model_preformance(df_time=45.1,sparse_time=41.6,model_name='LinearSVC')"
      ],
      "metadata": {
        "colab": {
          "base_uri": "https://localhost:8080/",
          "height": 580
        },
        "id": "1-enJNZxHdg1",
        "outputId": "6679f684-0164-4fdc-d20a-6edf2086ba8a"
      },
      "id": "1-enJNZxHdg1",
      "execution_count": 107,
      "outputs": [
        {
          "output_type": "display_data",
          "data": {
            "text/plain": [
              "<Figure size 720x576 with 1 Axes>"
            ],
            "image/png": "[encoded data removed]"
          },
          "metadata": {}
        }
      ]
    }
  ],
  "metadata": {
    "kernelspec": {
      "display_name": "default:Python",
      "language": "python",
      "name": "conda-env-default-py"
    },
    "language_info": {
      "codemirror_mode": {
        "name": "ipython",
        "version": 3
      },
      "file_extension": ".py",
      "mimetype": "text/x-python",
      "name": "python",
      "nbconvert_exporter": "python",
      "pygments_lexer": "ipython3",
      "version": "3.9.7"
    },
    "colab": {
      "name": "Sparse Matrices— What, When, and Why",
      "provenance": []
    }
  },
  "nbformat": 4,
  "nbformat_minor": 5
}